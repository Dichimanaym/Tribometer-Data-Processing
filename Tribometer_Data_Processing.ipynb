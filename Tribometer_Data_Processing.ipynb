{
 "cells": [
  {
   "cell_type": "code",
   "execution_count": 52,
   "metadata": {},
   "outputs": [
    {
     "name": "stderr",
     "output_type": "stream",
     "text": [
      "[NbConvertApp] Converting notebook Tribometer_Data_Processing.ipynb to script\n",
      "[NbConvertApp] Writing 11740 bytes to Tribometer_Data_Processing.py\n"
     ]
    }
   ],
   "source": [
    "#Convert file from notebook to script\n",
    "!jupyter nbconvert --to script Tribometer_Data_Processing.ipynb"
   ]
  },
  {
   "cell_type": "code",
   "execution_count": 35,
   "metadata": {
    "collapsed": true
   },
   "outputs": [],
   "source": [
    "#All the relevant imports\n",
    "import numpy as np\n",
    "import os\n",
    "import csv\n",
    "import math\n",
    "import matplotlib.pyplot as plt\n",
    "import pandas\n",
    "import scipy.signal as signal\n",
    "from tkinter import Tk\n",
    "from tkinter.filedialog import askopenfilename\n",
    "from tkinter.filedialog import askdirectory"
   ]
  },
  {
   "cell_type": "code",
   "execution_count": 36,
   "metadata": {
    "collapsed": true
   },
   "outputs": [],
   "source": [
    "#Creates the filepath for output file\n",
    "def outify(fileName):\n",
    "    return fileName.replace('.csv', '_OUT.csv')"
   ]
  },
  {
   "cell_type": "code",
   "execution_count": 37,
   "metadata": {
    "collapsed": true
   },
   "outputs": [],
   "source": [
    "#Determines whether an output file already exists, so that previous functions are not accidentally overwritten\n",
    "def findOut(fileName):\n",
    "    out = outify(fileName)\n",
    "    if os.path.isfile(out) == True:\n",
    "        return out\n",
    "    else:\n",
    "        return fileName"
   ]
  },
  {
   "cell_type": "code",
   "execution_count": 38,
   "metadata": {
    "collapsed": true
   },
   "outputs": [],
   "source": [
    "#Define a function which retrieves a CSV file\n",
    "def selectFile():\n",
    "    root = Tk()\n",
    "    ftypes = [('CSV File',\"*.csv\")]\n",
    "    ttl  = \"Select file\"\n",
    "    fileName = askopenfilename(filetypes = ftypes, title = ttl)\n",
    "    root.destroy()\n",
    "    return fileName"
   ]
  },
  {
   "cell_type": "code",
   "execution_count": 39,
   "metadata": {
    "collapsed": true
   },
   "outputs": [],
   "source": [
    "#Define a function which retrieves the headers and then the data, as rows, of a CSV\n",
    "def getRows(fileName):\n",
    "    rows = []\n",
    "    with open(findOut(fileName) ,newline='') as f:\n",
    "        reader = csv.reader(f)\n",
    "        header1 = next(reader)\n",
    "        header2 = next(reader)\n",
    "        header3 = next(reader)\n",
    "        for row in reader:\n",
    "            rows.append(row)\n",
    "        return rows, header1, header2, header3"
   ]
  },
  {
   "cell_type": "code",
   "execution_count": 40,
   "metadata": {
    "collapsed": true
   },
   "outputs": [],
   "source": [
    "#Write data to \"output\" csv\n",
    "def write(fileName, rows, header1, header2, header3):\n",
    "    \n",
    "    outFile=outify(fileName)\n",
    "    outFile=outFile.replace('_OUT_OUT', '_OUT')\n",
    "    \n",
    "    with open(outFile, 'w', newline='') as f:\n",
    "        writer = csv.writer(f)\n",
    "        writer.writerow(header1)\n",
    "        writer.writerow(header2)\n",
    "        writer.writerow(header3)\n",
    "        writer.writerows(rows)"
   ]
  },
  {
   "cell_type": "code",
   "execution_count": 41,
   "metadata": {
    "collapsed": true
   },
   "outputs": [],
   "source": [
    "#Define a function which replaces a column from the original in the output file\n",
    "def replaceCol(fileName, col, data):\n",
    "\n",
    "    rows, header1, header2, header3 = getRows(fileName)\n",
    "    \n",
    "    for i in range(0, len(data)):\n",
    "        rows[i][col] = data[i]\n",
    "\n",
    "    write(fileName, rows, header1, header2, header3)"
   ]
  },
  {
   "cell_type": "code",
   "execution_count": 42,
   "metadata": {
    "collapsed": true
   },
   "outputs": [],
   "source": [
    "#Define a function which appends a new column to the end of the csv\n",
    "def addCol(fileName, newHeader, data):\n",
    "    \n",
    "    rows, header1, header2, header3 = getRows(fileName)\n",
    "\n",
    "    header3.append(newHeader)\n",
    "\n",
    "    for i in range(0, len(data)):\n",
    "        rows[i].append(data[i])\n",
    "\n",
    "    write(fileName, rows, header1, header2, header3)"
   ]
  },
  {
   "cell_type": "code",
   "execution_count": 43,
   "metadata": {
    "collapsed": true
   },
   "outputs": [],
   "source": [
    "#Part 1 - define function to reset rotary postion to zero for each new step\n",
    "def revsReset():\n",
    "    #Get user inputs\n",
    "    fileName = selectFile()\n",
    "    stepsCol=int(input(\"Enter column for step: \"))-1\n",
    "    revsCol=int(input(\"Enter column for rotary position: \"))-1\n",
    "    \n",
    "    #Get data from csv\n",
    "    steps, revs = np.genfromtxt(fileName, delimiter =',', usecols = (stepsCol,revsCol) , skip_footer=2, unpack = True)\n",
    "    steps = [x for x in steps if (math.isnan(x) == False)]\n",
    "    revs = [x for x in revs if (math.isnan(x) == False)]\n",
    "    \n",
    "    #Process rotary postion given steps\n",
    "    step = -1\n",
    "    temp = -1\n",
    "    for i in range(len(revs)):\n",
    "        if steps[i] != step:\n",
    "            temp = revs[i]\n",
    "            revs[i] = 0\n",
    "            step = steps[i]\n",
    "        else:\n",
    "            revs[i] = revs[i] - temp\n",
    "    \n",
    "    #Write data to file\n",
    "    replaceCol(fileName, revsCol, revs)"
   ]
  },
  {
   "cell_type": "code",
   "execution_count": 44,
   "metadata": {
    "collapsed": true
   },
   "outputs": [],
   "source": [
    "#Part 2 - define funtion to average data from different files\n",
    "\n",
    "#This function is used in the average() function to isolate only the relevant data\n",
    "def isolate(step, steps, arr1, arr2, arr3, rate):\n",
    "    temp1 = []\n",
    "    temp2 = []\n",
    "    temp3 = []\n",
    "    while steps[0] != step:\n",
    "        steps = np.delete(steps, 0)\n",
    "        arr1= np.delete(arr1, 0)\n",
    "        arr2= np.delete(arr2, 0)\n",
    "        arr3= np.delete(arr3, 0)\n",
    "    i = 0\n",
    "    while steps[i] == step:\n",
    "        if i % rate == 0:\n",
    "            temp1.append(arr1[i])\n",
    "            temp2.append(arr2[i])\n",
    "            temp3.append(arr3[i])\n",
    "        i=i+1\n",
    "    return temp1, temp2, temp3\n",
    "\n",
    "#Function used within average() function to ensure arrays are all the same size\n",
    "def trimArrays(array):\n",
    "    amin = len(array[0])\n",
    "    for i in range(0, len(array)):\n",
    "        if amin > len(array[i]):\n",
    "            amin = len(array[i])\n",
    "    \n",
    "    for i in range(0, len(array)):\n",
    "        array[i] = array[i][:amin]\n",
    "        \n",
    "#This is the function which does the averaging\n",
    "def average():\n",
    "    #Define lists to use later\n",
    "    fileNames = []\n",
    "    dataRates = []\n",
    "    dataSteps = []\n",
    "    COFcols = []\n",
    "    revscols = []\n",
    "    times =[]\n",
    "    COFs = []\n",
    "    revs = []\n",
    "    cols = []\n",
    "    \n",
    "    #Get user to select files and input needed information\n",
    "    print(\"Select first file\")\n",
    "    done=False\n",
    "\n",
    "    while done==False:\n",
    "        fileNames.append(selectFile())\n",
    "        dataRates.append(float(input(\"Number of data points per second? \")))\n",
    "        COFcols.append(int(input(\"Column corresponding to COF? \"))-1)\n",
    "        revscols.append(int(input(\"Column corresponding to rotary position? \"))-1)\n",
    "        dataSteps.append(int(input('Recipe step to be averaged? ')))\n",
    "        i = input(\"Enter another file? (Y/N) \")\n",
    "        if i == 'Y' or i == 'y':\n",
    "            done=False\n",
    "        else:\n",
    "            done=True\n",
    "    \n",
    "    #Gets information and adds it all to relevant lists which can later be averaged\n",
    "    max = np.amax(dataRates)\n",
    "    for i in range(len(fileNames)):\n",
    "        steps, time, COF, rev = np.genfromtxt(fileNames[i], \n",
    "                                                 delimiter =',', skip_footer = 2, usecols = (0,1,COFcols[i],revscols[i]) , unpack = True)\n",
    "        steps = [x for x in steps if (math.isnan(x) == False)]\n",
    "        time = [x for x in time if (math.isnan(x) == False)]\n",
    "        COF = [x for x in COF if (math.isnan(x) == False)]\n",
    "        rev = [x for x in rev if (math.isnan(x) == False)]    \n",
    "        \n",
    "        \n",
    "        rate = max/dataRates[i]\n",
    "        a,b,c = isolate(dataSteps[i], steps, time, COF, rev, rate)\n",
    "        times.append(a)\n",
    "        COFs.append(b)\n",
    "        revs.append(c)\n",
    "    \n",
    "    cols.append(np.mean(times, axis=0))\n",
    "    cols.append(np.mean(COFs, axis=0))\n",
    "    cols.append(np.mean(revs, axis=0))\n",
    "    \n",
    "    \n",
    "    \n",
    "    newFile = input(\"Enter name for output file: \") + '.csv'\n",
    "    print(\"Select output directory\")\n",
    "    root = Tk()\n",
    "    ttl  = \"Select output directory\"\n",
    "    fileDir = askdirectory(title = ttl)\n",
    "    root.destroy()\n",
    "    \n",
    "    newFile = fileDir + '\\\\' + newFile\n",
    "    \n",
    "    with open(newFile, 'w', newline='') as f:\n",
    "        writer = csv.writer(f)\n",
    "        writer.writerow([\"Timestamp\", \"DAQ.COF\", \"Rotary.Position\"])\n",
    "        writer.writerows(np.array(cols).T.tolist())\n",
    "       "
   ]
  },
  {
   "cell_type": "code",
   "execution_count": 50,
   "metadata": {
    "collapsed": true
   },
   "outputs": [],
   "source": [
    "#Part 3 - Smoothe the data using SMA and a low-pass filter\n",
    "\n",
    "#This function is used to do the actual filtering\n",
    "def filter(data, order, freq, width):\n",
    "    N  = order    # Filter order\n",
    "    Wn = freq # Cutoff frequency\n",
    "    B, A = signal.butter(N, Wn, output='ba')\n",
    "    temp = signal.filtfilt(B,A, data)\n",
    "    df = pandas.DataFrame({'data':temp})\n",
    "    \n",
    "    return df.rolling(window=width)['data'].mean().tolist()\n",
    "\n",
    "#This function handles inputs and outputs\n",
    "def smoothe():\n",
    "    #Get file and other user inputs\n",
    "    fileName = selectFile()\n",
    "    col1 = int(input('Enter column for \"x-axis\": '))-1\n",
    "    col2 = int(input('Enter column for \"y-axis\": '))-1\n",
    "    freq = float(input('Enter low-pass filter cutoff frequency (Hz): '))\n",
    "    width = int(input('Enter width for SMA smoothing: '))\n",
    "    \n",
    "    #Get data from csv\n",
    "    steps, revs, data = np.genfromtxt(fileName, delimiter =',', usecols = (0, col1, col2) , skip_footer=2, unpack = True)\n",
    "    steps = [x for x in steps if (math.isnan(x) == False)]\n",
    "    revs = [x for x in revs if (math.isnan(x) == False)]\n",
    "    data = [x for x in data if (math.isnan(x) == False)]\n",
    "    \n",
    "    #Add filter both to entire data set and to each step\n",
    "    filtData=filter(data, 2, freq, width)\n",
    "\n",
    "    step = steps[0]\n",
    "    temp = []\n",
    "    dataSteps = []\n",
    "\n",
    "    for i in range(0, len(steps)):\n",
    "        if steps[i] > step:\n",
    "            dataSteps.append(temp)\n",
    "            temp = []\n",
    "            step = steps[i]\n",
    "    \n",
    "        temp.append(data[i])\n",
    "        if i == len(steps)-1:\n",
    "            dataSteps.append(temp)\n",
    "    \n",
    "    for i in range(0, len(dataSteps)):\n",
    "        dataSteps[i] = filter(dataSteps[i], 2, freq, width)\n",
    "    \n",
    "    temp2 = []\n",
    "    for row in dataSteps:\n",
    "        for col in row:\n",
    "            temp2.append(col)\n",
    "    dataSteps=temp2\n",
    "    \n",
    "    #Save graph of data\n",
    "    i = input('Save plot of data (Y/N)')\n",
    "    if i =='Y' or i == 'y':\n",
    "        plt.rcParams[\"figure.figsize\"] = [50, 25]\n",
    "        plt.plot(revs, data, label = 'Raw')\n",
    "        plt.plot(revs, filtData, label = 'With SMA and Frequency Filter')\n",
    "        plt.plot(revs, dataSteps, label = \"With SMA and Frequency Filter, stepwise\")\n",
    "        plt.legend()\n",
    "        plt.savefig(fileName.replace('.csv', '.png'))\n",
    "        plt.clf()\n",
    "    \n",
    "    #Write data to file\n",
    "    replaceCol(fileName, col2, filtData)\n",
    "    addCol(outify(fileName), 'DAQ.COF (Smoothed per Step)', dataSteps)"
   ]
  },
  {
   "cell_type": "code",
   "execution_count": 46,
   "metadata": {
    "collapsed": true
   },
   "outputs": [],
   "source": [
    "#Part 4 - define function to add information to header of csv\n",
    "def addInfo():\n",
    "    #Choose file and extract data\n",
    "    fileName = selectFile()\n",
    "    rows, header1, header2, header3 = getRows(fileName)\n",
    "        \n",
    "    #Get user inputs for attributes and their values\n",
    "    while len(header1) > len(header2):\n",
    "        header2.append('')\n",
    "    \n",
    "    while len(header2) > len(header1):\n",
    "        header1.append('')\n",
    "        \n",
    "    done = False\n",
    "\n",
    "    while done == False:\n",
    "        header1.append(input(\"Enter attribute: \"))\n",
    "        header2.append(input(\"Enter value for this attribute: \"))\n",
    "        i = input(\"Enter another attribute? (Y/N) \")\n",
    "        if i == 'Y' or i == 'y':\n",
    "            done=False\n",
    "        else:\n",
    "            done=True\n",
    "    \n",
    "    #Write info to file\n",
    "    write(fileName, rows, header1, header2, header3)"
   ]
  },
  {
   "cell_type": "code",
   "execution_count": 47,
   "metadata": {
    "collapsed": true
   },
   "outputs": [],
   "source": [
    "#Part 5 - define function to find derivatives of the data\n",
    "def derivative():\n",
    "    #User inputs for x and y columns\n",
    "    fileName = selectFile()\n",
    "    xCol = int(input('Select \"x\" column for derivative: '))-1\n",
    "    yCol = int(input('Select \"y\" column for derivative: '))-1\n",
    "    \n",
    "    #Get data from csv\n",
    "    x, y= np.genfromtxt(fileName, delimiter =',', usecols = (xCol, yCol) ,skip_footer=2, unpack = True)\n",
    "    x = [i for i in x if (math.isnan(i) == False)]\n",
    "    y = y.tolist()\n",
    "    for i in range(0, len(y)):\n",
    "        if math.isnan(y[i]):\n",
    "            y[i]=0\n",
    "    for i in range(0, len(y)-len(x)):\n",
    "        del y[0]\n",
    "    \n",
    "    #Calculate derivatives\n",
    "    derivative = np.diff(y)/np.diff(x)\n",
    "    derivative = np.append(derivative, 0)\n",
    "    \n",
    "    #Write data to file\n",
    "    addCol(fileName, 'DAQ.COF Derivative', derivative)"
   ]
  },
  {
   "cell_type": "code",
   "execution_count": 48,
   "metadata": {
    "collapsed": true
   },
   "outputs": [],
   "source": [
    "def main():\n",
    "    #Introductory text to present the app and its options to user\n",
    "    print('Welcome to Saint-Gobain Performance Plastics Tribometer Data Processing Utility')\n",
    "    print('Version 1.1')\n",
    "    print('Select one of the following tasks to perform:')\n",
    "    print('1- Reset rotary position to zero for each step of the recipe')\n",
    "    print('2- Average timestamp, DAQ.COF, and rotary position for a particular recipe step')\n",
    "    print('3- Perform smoothing/filtering to data')\n",
    "    print('4- Add information to CSV file')\n",
    "    print('5- Find derivative for data (using \"slope\" approximations)')\n",
    "\n",
    "    #Create loop which cycles until valid option chosen\n",
    "    #Each input calls a function corresponding to a task\n",
    "    error=True\n",
    "    while error==True:\n",
    "        i = input(\"Select function: \")\n",
    "        if i == \"1\":\n",
    "            revsReset()\n",
    "            error=False\n",
    "        elif i == \"2\":\n",
    "            average()\n",
    "            error=False\n",
    "        elif i == \"3\":\n",
    "            smoothe()\n",
    "            error = False\n",
    "        elif i == \"4\":\n",
    "            addInfo()\n",
    "            error = False\n",
    "        elif i == \"5\":\n",
    "            derivative()\n",
    "            error = False\n",
    "        else:\n",
    "            print('Invaild input, please enter again')"
   ]
  }
 ],
 "metadata": {
  "kernelspec": {
   "display_name": "Python 3",
   "language": "python",
   "name": "python3"
  },
  "language_info": {
   "codemirror_mode": {
    "name": "ipython",
    "version": 3
   },
   "file_extension": ".py",
   "mimetype": "text/x-python",
   "name": "python",
   "nbconvert_exporter": "python",
   "pygments_lexer": "ipython3",
   "version": "3.6.6"
  }
 },
 "nbformat": 4,
 "nbformat_minor": 2
}
